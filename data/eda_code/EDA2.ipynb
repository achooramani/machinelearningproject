{
 "cells": [
  {
   "cell_type": "markdown",
   "metadata": {},
   "source": [
    "# EDA"
   ]
  },
  {
   "cell_type": "markdown",
   "metadata": {},
   "source": [
    "### 1. Describe the dataset\n",
    "\n",
    "The data set we will be visualizing is the HDFS logfile data set. We have 9 columns in this dataset. \n",
    "\n",
    "1. Date: Date of the record of the log row entry\n",
    "2. Time: Time of the record of the log row entry\n",
    "3. PID: Process ID\n",
    "4. Level: Information like a log entry is \"Warn\" or \"Info\"\n",
    "5. Component: It contains information like DNS Packet receiver or block etc\n",
    "6. Content: It contains elaborated details of the component\n",
    "7. TypeOfContent: It is details about content in a cleaner format\n",
    "8. datetime_id: It is unique row id\n",
    "9. Tag: Based on the data, we have added some tags for easier calculation"
   ]
  },
  {
   "cell_type": "markdown",
   "metadata": {},
   "source": [
    "### 2. Load the dataset"
   ]
  },
  {
   "cell_type": "code",
   "execution_count": 1,
   "metadata": {},
   "outputs": [
    {
     "data": {
      "text/html": [
       "<div>\n",
       "<style scoped>\n",
       "    .dataframe tbody tr th:only-of-type {\n",
       "        vertical-align: middle;\n",
       "    }\n",
       "\n",
       "    .dataframe tbody tr th {\n",
       "        vertical-align: top;\n",
       "    }\n",
       "\n",
       "    .dataframe thead th {\n",
       "        text-align: right;\n",
       "    }\n",
       "</style>\n",
       "<table border=\"1\" class=\"dataframe\">\n",
       "  <thead>\n",
       "    <tr style=\"text-align: right;\">\n",
       "      <th></th>\n",
       "      <th>Date</th>\n",
       "      <th>Time</th>\n",
       "      <th>PID</th>\n",
       "      <th>Level</th>\n",
       "      <th>Component</th>\n",
       "      <th>Content</th>\n",
       "      <th>TypeOfContent</th>\n",
       "      <th>datetime_id</th>\n",
       "      <th>Tag</th>\n",
       "    </tr>\n",
       "  </thead>\n",
       "  <tbody>\n",
       "    <tr>\n",
       "      <th>0</th>\n",
       "      <td>2008-11-09</td>\n",
       "      <td>203615</td>\n",
       "      <td>148</td>\n",
       "      <td>INFO</td>\n",
       "      <td>dfs.DataNode$PacketResponder</td>\n",
       "      <td>PacketResponder 1 for block blk_38865049064139...</td>\n",
       "      <td>PacketResponder</td>\n",
       "      <td>81109203615</td>\n",
       "      <td>PacketResponder</td>\n",
       "    </tr>\n",
       "    <tr>\n",
       "      <th>1</th>\n",
       "      <td>2008-11-09</td>\n",
       "      <td>203807</td>\n",
       "      <td>222</td>\n",
       "      <td>INFO</td>\n",
       "      <td>dfs.DataNode$PacketResponder</td>\n",
       "      <td>PacketResponder 0 for block blk_-6952295868487...</td>\n",
       "      <td>PacketResponder</td>\n",
       "      <td>81109203807</td>\n",
       "      <td>PacketResponder</td>\n",
       "    </tr>\n",
       "    <tr>\n",
       "      <th>2</th>\n",
       "      <td>2008-11-09</td>\n",
       "      <td>204005</td>\n",
       "      <td>35</td>\n",
       "      <td>INFO</td>\n",
       "      <td>dfs.FSNamesystem</td>\n",
       "      <td>BLOCK* NameSystem.addStoredBlock: blockMap upd...</td>\n",
       "      <td>BLOCK*</td>\n",
       "      <td>81109204005</td>\n",
       "      <td>BLOCK*</td>\n",
       "    </tr>\n",
       "    <tr>\n",
       "      <th>3</th>\n",
       "      <td>2008-11-09</td>\n",
       "      <td>204015</td>\n",
       "      <td>308</td>\n",
       "      <td>INFO</td>\n",
       "      <td>dfs.DataNode$PacketResponder</td>\n",
       "      <td>PacketResponder 2 for block blk_82291938032499...</td>\n",
       "      <td>PacketResponder</td>\n",
       "      <td>81109204015</td>\n",
       "      <td>PacketResponder</td>\n",
       "    </tr>\n",
       "    <tr>\n",
       "      <th>4</th>\n",
       "      <td>2008-11-09</td>\n",
       "      <td>204106</td>\n",
       "      <td>329</td>\n",
       "      <td>INFO</td>\n",
       "      <td>dfs.DataNode$PacketResponder</td>\n",
       "      <td>PacketResponder 2 for block blk_-6670958622368...</td>\n",
       "      <td>PacketResponder</td>\n",
       "      <td>81109204106</td>\n",
       "      <td>PacketResponder</td>\n",
       "    </tr>\n",
       "  </tbody>\n",
       "</table>\n",
       "</div>"
      ],
      "text/plain": [
       "         Date    Time  PID Level                     Component  \\\n",
       "0  2008-11-09  203615  148  INFO  dfs.DataNode$PacketResponder   \n",
       "1  2008-11-09  203807  222  INFO  dfs.DataNode$PacketResponder   \n",
       "2  2008-11-09  204005   35  INFO              dfs.FSNamesystem   \n",
       "3  2008-11-09  204015  308  INFO  dfs.DataNode$PacketResponder   \n",
       "4  2008-11-09  204106  329  INFO  dfs.DataNode$PacketResponder   \n",
       "\n",
       "                                             Content    TypeOfContent  \\\n",
       "0  PacketResponder 1 for block blk_38865049064139...  PacketResponder   \n",
       "1  PacketResponder 0 for block blk_-6952295868487...  PacketResponder   \n",
       "2  BLOCK* NameSystem.addStoredBlock: blockMap upd...           BLOCK*   \n",
       "3  PacketResponder 2 for block blk_82291938032499...  PacketResponder   \n",
       "4  PacketResponder 2 for block blk_-6670958622368...  PacketResponder   \n",
       "\n",
       "   datetime_id              Tag  \n",
       "0  81109203615  PacketResponder  \n",
       "1  81109203807  PacketResponder  \n",
       "2  81109204005           BLOCK*  \n",
       "3  81109204015  PacketResponder  \n",
       "4  81109204106  PacketResponder  "
      ]
     },
     "execution_count": 1,
     "metadata": {},
     "output_type": "execute_result"
    }
   ],
   "source": [
    "import re\n",
    "import pandas as pd\n",
    "import os\n",
    "os.chdir(\"/Volumes/UBC/Block6/586-AdvanceMachineLearning/project/machinelearningproject\")\n",
    "\n",
    "# Run this cell to ensure that altair plots show up in the exported HTML\n",
    "# and that the R cell magic works\n",
    "import altair as alt\n",
    "\n",
    "# Save a vega-lite spec and a PNG blob for each plot in the notebook\n",
    "alt.renderers.enable('mimetype')\n",
    "# Handle large data sets without embedding them in the notebook\n",
    "alt.data_transformers.enable('data_server')\n",
    "\n",
    "parsed_data = pd.read_csv(\"data/processed_data/HDFS/HDFS_2k_structured.csv\")\n",
    "\n",
    "parsed_data.head()"
   ]
  },
  {
   "cell_type": "code",
   "execution_count": 2,
   "metadata": {},
   "outputs": [
    {
     "name": "stdout",
     "output_type": "stream",
     "text": [
      "<class 'pandas.core.frame.DataFrame'>\n",
      "RangeIndex: 2000 entries, 0 to 1999\n",
      "Data columns (total 9 columns):\n",
      " #   Column         Non-Null Count  Dtype \n",
      "---  ------         --------------  ----- \n",
      " 0   Date           2000 non-null   object\n",
      " 1   Time           2000 non-null   int64 \n",
      " 2   PID            2000 non-null   int64 \n",
      " 3   Level          2000 non-null   object\n",
      " 4   Component      2000 non-null   object\n",
      " 5   Content        2000 non-null   object\n",
      " 6   TypeOfContent  2000 non-null   object\n",
      " 7   datetime_id    2000 non-null   int64 \n",
      " 8   Tag            2000 non-null   object\n",
      "dtypes: int64(3), object(6)\n",
      "memory usage: 140.8+ KB\n"
     ]
    }
   ],
   "source": [
    "parsed_data.info()"
   ]
  },
  {
   "cell_type": "markdown",
   "metadata": {},
   "source": [
    "### 3. Explore the data set"
   ]
  },
  {
   "cell_type": "code",
   "execution_count": 3,
   "metadata": {},
   "outputs": [
    {
     "data": {
      "text/html": [
       "<div>\n",
       "<style scoped>\n",
       "    .dataframe tbody tr th:only-of-type {\n",
       "        vertical-align: middle;\n",
       "    }\n",
       "\n",
       "    .dataframe tbody tr th {\n",
       "        vertical-align: top;\n",
       "    }\n",
       "\n",
       "    .dataframe thead th {\n",
       "        text-align: right;\n",
       "    }\n",
       "</style>\n",
       "<table border=\"1\" class=\"dataframe\">\n",
       "  <thead>\n",
       "    <tr style=\"text-align: right;\">\n",
       "      <th></th>\n",
       "      <th>Time</th>\n",
       "      <th>PID</th>\n",
       "      <th>datetime_id</th>\n",
       "    </tr>\n",
       "  </thead>\n",
       "  <tbody>\n",
       "    <tr>\n",
       "      <th>count</th>\n",
       "      <td>2000.000000</td>\n",
       "      <td>2000.000000</td>\n",
       "      <td>2.000000e+03</td>\n",
       "    </tr>\n",
       "    <tr>\n",
       "      <th>mean</th>\n",
       "      <td>107375.609500</td>\n",
       "      <td>7771.287500</td>\n",
       "      <td>8.111047e+10</td>\n",
       "    </tr>\n",
       "    <tr>\n",
       "      <th>std</th>\n",
       "      <td>69780.904034</td>\n",
       "      <td>9053.587141</td>\n",
       "      <td>5.743542e+05</td>\n",
       "    </tr>\n",
       "    <tr>\n",
       "      <th>min</th>\n",
       "      <td>37.000000</td>\n",
       "      <td>13.000000</td>\n",
       "      <td>8.110920e+10</td>\n",
       "    </tr>\n",
       "    <tr>\n",
       "      <th>25%</th>\n",
       "      <td>52286.750000</td>\n",
       "      <td>28.000000</td>\n",
       "      <td>8.111010e+10</td>\n",
       "    </tr>\n",
       "    <tr>\n",
       "      <th>50%</th>\n",
       "      <td>92538.000000</td>\n",
       "      <td>2883.500000</td>\n",
       "      <td>8.111022e+10</td>\n",
       "    </tr>\n",
       "    <tr>\n",
       "      <th>75%</th>\n",
       "      <td>151136.750000</td>\n",
       "      <td>15851.250000</td>\n",
       "      <td>8.111106e+10</td>\n",
       "    </tr>\n",
       "    <tr>\n",
       "      <th>max</th>\n",
       "      <td>235951.000000</td>\n",
       "      <td>26895.000000</td>\n",
       "      <td>8.111110e+10</td>\n",
       "    </tr>\n",
       "  </tbody>\n",
       "</table>\n",
       "</div>"
      ],
      "text/plain": [
       "                Time           PID   datetime_id\n",
       "count    2000.000000   2000.000000  2.000000e+03\n",
       "mean   107375.609500   7771.287500  8.111047e+10\n",
       "std     69780.904034   9053.587141  5.743542e+05\n",
       "min        37.000000     13.000000  8.110920e+10\n",
       "25%     52286.750000     28.000000  8.111010e+10\n",
       "50%     92538.000000   2883.500000  8.111022e+10\n",
       "75%    151136.750000  15851.250000  8.111106e+10\n",
       "max    235951.000000  26895.000000  8.111110e+10"
      ]
     },
     "execution_count": 3,
     "metadata": {},
     "output_type": "execute_result"
    }
   ],
   "source": [
    "parsed_data.describe()"
   ]
  },
  {
   "cell_type": "markdown",
   "metadata": {},
   "source": [
    "We have 2000 rows"
   ]
  },
  {
   "cell_type": "code",
   "execution_count": 4,
   "metadata": {},
   "outputs": [
    {
     "data": {
      "text/plain": [
       "array(['2008-11-09', '2008-11-10', '2008-11-11'], dtype=object)"
      ]
     },
     "execution_count": 4,
     "metadata": {},
     "output_type": "execute_result"
    }
   ],
   "source": [
    "parsed_data['Date'].unique()"
   ]
  },
  {
   "cell_type": "markdown",
   "metadata": {},
   "source": [
    "The data is available for 3 dates only"
   ]
  },
  {
   "cell_type": "code",
   "execution_count": 5,
   "metadata": {},
   "outputs": [
    {
     "data": {
      "text/plain": [
       "PID\n",
       "13        20\n",
       "18        28\n",
       "19       242\n",
       "26        70\n",
       "27        84\n",
       "        ... \n",
       "26494      1\n",
       "26526      1\n",
       "26527      1\n",
       "26595      1\n",
       "26895      1\n",
       "Length: 1054, dtype: int64"
      ]
     },
     "execution_count": 5,
     "metadata": {},
     "output_type": "execute_result"
    }
   ],
   "source": [
    "parsed_data.groupby(['PID']).size()"
   ]
  },
  {
   "cell_type": "markdown",
   "metadata": {},
   "source": [
    "We have multiple values of PID and they are not unique for each row. That means some PID will be repeated for some rows. It probably would indicate some kind of process tag involved in the creation of the log entry."
   ]
  },
  {
   "cell_type": "code",
   "execution_count": 6,
   "metadata": {},
   "outputs": [
    {
     "data": {
      "text/plain": [
       "Level\n",
       "INFO    1920\n",
       "WARN      80\n",
       "dtype: int64"
      ]
     },
     "execution_count": 6,
     "metadata": {},
     "output_type": "execute_result"
    }
   ],
   "source": [
    "parsed_data.groupby(['Level']).size()"
   ]
  },
  {
   "cell_type": "markdown",
   "metadata": {},
   "source": [
    "There are two types of levels. It includes either \"Info\" which would indicate \"good-to-know\" information or \"Warn\" which would indicate some \"warning or improvement\". From long term perspective, we feel the \"Error\" level is missing from the data."
   ]
  },
  {
   "cell_type": "code",
   "execution_count": 7,
   "metadata": {},
   "outputs": [
    {
     "data": {
      "text/plain": [
       "Tag\n",
       "BLOCK*             659\n",
       "Deleting           263\n",
       "Others_IP_INFO      81\n",
       "Others_IP_WARN      80\n",
       "PacketResponder    311\n",
       "Received           294\n",
       "Receiving          292\n",
       "Verification        20\n",
       "dtype: int64"
      ]
     },
     "execution_count": 7,
     "metadata": {},
     "output_type": "execute_result"
    }
   ],
   "source": [
    "parsed_data.groupby(['Tag']).size()"
   ]
  },
  {
   "cell_type": "markdown",
   "metadata": {},
   "source": [
    "\"Tags\" are some indicators which we added based on our understanding of the data. Information like \"BLOCK*\", \"Deleting\", \"PacketResponder\", \"Received\", \"Receiving\", \"Verification\" were deirectly available in the content. \n",
    "However there were some rows which had the content starting with an IP address. Those were sub divided into two parts - 1. Whcih contains the word \"Got\" and 2. which doesn't contain the word \"Got\". Hence, accordingly those were divided into \"Others_IP_INFO\" and \"Others_IP_WARN\""
   ]
  },
  {
   "cell_type": "markdown",
   "metadata": {},
   "source": [
    "### 4. Initial thoughts"
   ]
  },
  {
   "cell_type": "code",
   "execution_count": 8,
   "metadata": {},
   "outputs": [
    {
     "data": {
      "text/plain": [
       "Date             0\n",
       "Time             0\n",
       "PID              0\n",
       "Level            0\n",
       "Component        0\n",
       "Content          0\n",
       "TypeOfContent    0\n",
       "datetime_id      0\n",
       "Tag              0\n",
       "dtype: int64"
      ]
     },
     "execution_count": 8,
     "metadata": {},
     "output_type": "execute_result"
    }
   ],
   "source": [
    "parsed_data.isnull().sum()"
   ]
  },
  {
   "cell_type": "markdown",
   "metadata": {},
   "source": [
    "1 On first look, it looks like fairly clean data \\\n",
    "2 We do not have to do null value treatment as there are no null entries present \\\n",
    "3 However, without visualizations, we cannot comment if we have outliers/anomaly in the data \\ \n",
    "\n",
    "The purpose of this project is to find anomaly/outlier hence we need are assuming they are present for sure. We cannot be sure at the moment about the proportion of anomaly"
   ]
  },
  {
   "cell_type": "markdown",
   "metadata": {},
   "source": [
    "### 5. Data Visualization"
   ]
  },
  {
   "cell_type": "code",
   "execution_count": 9,
   "metadata": {},
   "outputs": [
    {
     "data": {
      "application/vnd.vegalite.v4+json": {
       "$schema": "https://vega.github.io/schema/vega-lite/v4.8.1.json",
       "config": {
        "view": {
         "continuousHeight": 300,
         "continuousWidth": 400
        }
       },
       "data": {
        "url": "http://localhost:15974/02964748b78b23003de4a416bfa0e84e.json"
       },
       "encoding": {
        "x": {
         "bin": {
          "maxbins": 24
         },
         "field": "Time",
         "type": "quantitative"
        },
        "y": {
         "aggregate": "count",
         "type": "quantitative"
        }
       },
       "height": 100,
       "mark": "bar"
      },
      "image/png": "[encoded data removed]",
      "text/plain": [
       "<VegaLite 4 object>\n",
       "\n",
       "If you see this message, it means the renderer has not been properly enabled\n",
       "for the frontend that you are using. For more information, see\n",
       "https://altair-viz.github.io/user_guide/troubleshooting.html\n"
      ]
     },
     "execution_count": 9,
     "metadata": {},
     "output_type": "execute_result"
    }
   ],
   "source": [
    "# Graph 1\n",
    "\n",
    "alt.Chart(parsed_data).mark_bar().encode(\n",
    "    x=alt.X('Time', bin=alt.Bin(maxbins=24)),\n",
    "    y='count()'\n",
    "    ).properties(\n",
    "    height=100\n",
    ")"
   ]
  },
  {
   "cell_type": "markdown",
   "metadata": {},
   "source": [
    "In the above graph we can see the hourly distribution of the log entries "
   ]
  },
  {
   "cell_type": "code",
   "execution_count": 10,
   "metadata": {},
   "outputs": [
    {
     "data": {
      "application/vnd.vegalite.v4+json": {
       "$schema": "https://vega.github.io/schema/vega-lite/v4.8.1.json",
       "config": {
        "view": {
         "continuousHeight": 300,
         "continuousWidth": 400
        }
       },
       "data": {
        "url": "http://localhost:15974/02964748b78b23003de4a416bfa0e84e.json"
       },
       "encoding": {
        "x": {
         "field": "Date",
         "type": "nominal"
        },
        "y": {
         "aggregate": "count",
         "type": "quantitative"
        }
       },
       "height": 300,
       "mark": "line",
       "width": 500
      },
      "image/png": "[encoded data removed]",
      "text/plain": [
       "<VegaLite 4 object>\n",
       "\n",
       "If you see this message, it means the renderer has not been properly enabled\n",
       "for the frontend that you are using. For more information, see\n",
       "https://altair-viz.github.io/user_guide/troubleshooting.html\n"
      ]
     },
     "execution_count": 10,
     "metadata": {},
     "output_type": "execute_result"
    }
   ],
   "source": [
    "# Graph 2\n",
    "\n",
    "alt.Chart(parsed_data).mark_line().encode(\n",
    "alt.X('Date'),\n",
    "    y = 'count()',\n",
    ").properties(\n",
    "    height=300, width = 500\n",
    ")"
   ]
  },
  {
   "cell_type": "markdown",
   "metadata": {},
   "source": [
    "The above graph gives an idea about how many log entries were created per day"
   ]
  },
  {
   "cell_type": "code",
   "execution_count": 11,
   "metadata": {},
   "outputs": [
    {
     "data": {
      "application/vnd.vegalite.v4+json": {
       "$schema": "https://vega.github.io/schema/vega-lite/v4.8.1.json",
       "config": {
        "view": {
         "continuousHeight": 300,
         "continuousWidth": 400
        }
       },
       "data": {
        "url": "http://localhost:15974/02964748b78b23003de4a416bfa0e84e.json"
       },
       "encoding": {
        "color": {
         "field": "Tag",
         "type": "nominal"
        },
        "x": {
         "field": "Tag",
         "type": "nominal"
        },
        "y": {
         "aggregate": "count",
         "type": "quantitative"
        }
       },
       "height": 300,
       "mark": "bar",
       "width": 500
      },
      "image/png": "[encoded data removed]",
      "text/plain": [
       "<VegaLite 4 object>\n",
       "\n",
       "If you see this message, it means the renderer has not been properly enabled\n",
       "for the frontend that you are using. For more information, see\n",
       "https://altair-viz.github.io/user_guide/troubleshooting.html\n"
      ]
     },
     "execution_count": 11,
     "metadata": {},
     "output_type": "execute_result"
    }
   ],
   "source": [
    "# Graph 3\n",
    "alt.Chart(parsed_data).mark_bar().encode(\n",
    "    x=alt.X('Tag'),\n",
    "    y='count()',\n",
    "    color = \"Tag\").properties(\n",
    "    height=300, width = 500\n",
    ")"
   ]
  },
  {
   "cell_type": "markdown",
   "metadata": {},
   "source": [
    "Based on the tags which we created, we tried dividing the data in few section to understand how many entries are there per tag. We see, we have a lot of entries related to block and very few entries related to verification."
   ]
  },
  {
   "cell_type": "code",
   "execution_count": 12,
   "metadata": {},
   "outputs": [
    {
     "data": {
      "application/vnd.vegalite.v4+json": {
       "$schema": "https://vega.github.io/schema/vega-lite/v4.8.1.json",
       "config": {
        "view": {
         "continuousHeight": 300,
         "continuousWidth": 400
        }
       },
       "data": {
        "url": "http://localhost:15974/02964748b78b23003de4a416bfa0e84e.json"
       },
       "encoding": {
        "color": {
         "field": "Level",
         "type": "nominal"
        },
        "x": {
         "field": "Level",
         "type": "nominal"
        },
        "y": {
         "aggregate": "count",
         "type": "quantitative"
        }
       },
       "height": 200,
       "mark": "bar",
       "width": 100
      },
      "image/png": "[encoded data removed]",
      "text/plain": [
       "<VegaLite 4 object>\n",
       "\n",
       "If you see this message, it means the renderer has not been properly enabled\n",
       "for the frontend that you are using. For more information, see\n",
       "https://altair-viz.github.io/user_guide/troubleshooting.html\n"
      ]
     },
     "execution_count": 12,
     "metadata": {},
     "output_type": "execute_result"
    }
   ],
   "source": [
    "# Graph 4\n",
    "\n",
    "alt.Chart(parsed_data).mark_bar().encode(\n",
    "    x=alt.X('Level'),\n",
    "    y = 'count()',\n",
    "    color = \"Level\").properties(\n",
    "    height=200, width = 100\n",
    ")\n"
   ]
  },
  {
   "cell_type": "markdown",
   "metadata": {},
   "source": [
    "The levels are split into \"INFO\" and \"WARN\" and we can observe we have very few warnings"
   ]
  },
  {
   "cell_type": "code",
   "execution_count": 13,
   "metadata": {},
   "outputs": [
    {
     "data": {
      "application/vnd.vegalite.v4+json": {
       "$schema": "https://vega.github.io/schema/vega-lite/v4.8.1.json",
       "config": {
        "view": {
         "continuousHeight": 300,
         "continuousWidth": 400
        }
       },
       "data": {
        "url": "http://localhost:15974/02964748b78b23003de4a416bfa0e84e.json"
       },
       "encoding": {
        "color": {
         "field": "Date",
         "type": "nominal"
        },
        "x": {
         "field": "Date",
         "type": "nominal"
        },
        "y": {
         "field": "PID",
         "type": "quantitative"
        }
       },
       "height": 100,
       "mark": "point",
       "width": 500
      },
      "image/png": "[encoded data removed]",
      "text/plain": [
       "<VegaLite 4 object>\n",
       "\n",
       "If you see this message, it means the renderer has not been properly enabled\n",
       "for the frontend that you are using. For more information, see\n",
       "https://altair-viz.github.io/user_guide/troubleshooting.html\n"
      ]
     },
     "execution_count": 13,
     "metadata": {},
     "output_type": "execute_result"
    }
   ],
   "source": [
    "# Graph 5\n",
    "\n",
    "alt.Chart(parsed_data).mark_point().encode(\n",
    "    x= alt.X('Date'),\n",
    "    y = alt.Y('PID'),\n",
    "    color = \"Date\").properties(\n",
    "    height=100, width = 500\n",
    ")"
   ]
  },
  {
   "cell_type": "markdown",
   "metadata": {},
   "source": [
    "Here, we wanted to understand how PID is related to the dates"
   ]
  },
  {
   "cell_type": "code",
   "execution_count": 14,
   "metadata": {},
   "outputs": [
    {
     "data": {
      "application/vnd.vegalite.v4+json": {
       "$schema": "https://vega.github.io/schema/vega-lite/v4.8.1.json",
       "config": {
        "view": {
         "continuousHeight": 300,
         "continuousWidth": 400
        }
       },
       "data": {
        "url": "http://localhost:15974/02964748b78b23003de4a416bfa0e84e.json"
       },
       "encoding": {
        "color": {
         "field": "Component",
         "type": "nominal"
        },
        "x": {
         "field": "Date",
         "type": "nominal"
        },
        "y": {
         "field": "Component",
         "type": "nominal"
        }
       },
       "height": 100,
       "mark": "point",
       "width": 500
      },
      "image/png": "[encoded data removed]",
      "text/plain": [
       "<VegaLite 4 object>\n",
       "\n",
       "If you see this message, it means the renderer has not been properly enabled\n",
       "for the frontend that you are using. For more information, see\n",
       "https://altair-viz.github.io/user_guide/troubleshooting.html\n"
      ]
     },
     "execution_count": 14,
     "metadata": {},
     "output_type": "execute_result"
    }
   ],
   "source": [
    "# Graph 6\n",
    "\n",
    "alt.Chart(parsed_data).mark_point().encode(\n",
    "    x= alt.X('Date'),\n",
    "    y = alt.Y('Component'),\n",
    "    color = \"Component\").properties(\n",
    "    height=100, width = 500\n",
    ")"
   ]
  },
  {
   "cell_type": "markdown",
   "metadata": {},
   "source": [
    "In the above graph we wanted to know how each compenent is related to the date"
   ]
  }
 ],
 "metadata": {
  "kernelspec": {
   "display_name": "Python 3",
   "language": "python",
   "name": "python3"
  },
  "language_info": {
   "codemirror_mode": {
    "name": "ipython",
    "version": 3
   },
   "file_extension": ".py",
   "mimetype": "text/x-python",
   "name": "python",
   "nbconvert_exporter": "python",
   "pygments_lexer": "ipython3",
   "version": "3.8.5"
  }
 },
 "nbformat": 4,
 "nbformat_minor": 4
}
